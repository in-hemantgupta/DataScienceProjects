{
 "cells": [
  {
   "cell_type": "markdown",
   "metadata": {},
   "source": [
    "### By looking at the description of the dataset from the link, the information on each field can be found.\n",
    "\n",
    "    0. — the polarity of the tweet (0 = negative, 2 = neutral, 4 = positive)\n",
    "    1. — the id of the tweet (2087)\n",
    "    2. — the date of the tweet (Sat May 16 23:58:44 UTC 2009)\n",
    "    3. — the query (lyx). If there is no query, then this value is NO_QUERY.\n",
    "    4. — the user that tweeted (robotickilldozr)\n",
    "    5. — the text of the tweet (Lyx is cool)"
   ]
  },
  {
   "cell_type": "code",
   "execution_count": 1,
   "metadata": {},
   "outputs": [],
   "source": [
    "import pandas as pd  \n",
    "import numpy as np\n",
    "import matplotlib.pyplot as plt\n",
    "import tweepy\n",
    "from bs4 import BeautifulSoup\n",
    "from nltk.tokenize import WordPunctTokenizer\n",
    "import re \n",
    "from textblob import TextBlob\n",
    "import sys\n",
    "from matplotlib import pyplot as plt\n",
    "%matplotlib inline\n",
    "\n",
    "consumerKey = 'AkqSt3AyBtdGJKpUDO7uBvhMM'\n",
    "consumerSecret = 'boKoyKZaFwSOt9PovTv2DuTuYI3BLkAghXiRVvhanbzSAzzT5H'\n",
    "accessToken = '2560788740-OFNG50ry4lk9aKLK45KrO94zed9IfSjSfy66r64'\n",
    "accessTokenSecret = '7q7EHRzJWPHxpC7PEXePRjZWRjhsdJoF71D38ZZTiENlK'\n"
   ]
  },
  {
   "cell_type": "markdown",
   "metadata": {},
   "source": [
    "## setting tweeter api with the key & secrete"
   ]
  },
  {
   "cell_type": "code",
   "execution_count": 2,
   "metadata": {},
   "outputs": [],
   "source": [
    "auth = tweepy.OAuthHandler(consumerKey, consumerSecret)\n",
    "auth.set_access_token(accessToken, accessTokenSecret)\n",
    "api = tweepy.API(auth)\n"
   ]
  },
  {
   "cell_type": "code",
   "execution_count": 3,
   "metadata": {},
   "outputs": [],
   "source": [
    "#tweets = tweepy.Cursor(api.search, q=searchTerm).items(NoOfTerms)"
   ]
  },
  {
   "cell_type": "code",
   "execution_count": 4,
   "metadata": {},
   "outputs": [],
   "source": [
    "\n",
    "def tweet_cleaner(text):\n",
    "    tok = WordPunctTokenizer()\n",
    "    pat1 = r'@[A-Za-z0-9]+'\n",
    "    pat2 = r'https?://[A-Za-z0-9./]+'\n",
    "    combined_pat = r'|'.join((pat1, pat2))\n",
    "    \n",
    "    \n",
    "    soup = BeautifulSoup(text, 'lxml')\n",
    "    souped = soup.get_text()\n",
    "    stripped = re.sub(combined_pat, '', souped)\n",
    "    try:\n",
    "        clean = stripped.decode(\"utf-8-sig\").replace(u\"\\ufffd\", \"?\")\n",
    "    except:\n",
    "        clean = stripped\n",
    "    letters_only = re.sub(\"[^a-zA-Z]\", \" \", clean)\n",
    "    lower_case = letters_only.lower()\n",
    "    # During the letters_only process two lines above, it has created unnecessay white spaces,\n",
    "    # I will tokenize and join together to remove unneccessary white spaces\n",
    "    words = tok.tokenize(lower_case)\n",
    "    return (\" \".join(words)).strip()\n",
    "\n",
    "\n",
    "\n",
    "def SearchAndCleanTweets():\n",
    "    tweets = results = api.search(\n",
    "       lang=\"en\",\n",
    "       q=searchTerm + \" -rt\",\n",
    "       count=NoOfTerms,\n",
    "       result_type=\"recent\"\n",
    "    )\n",
    "    \n",
    "\n",
    "    ta = []\n",
    "    for tweet in tweets:\n",
    "        #print(tweet.text)\n",
    "         ta.append(tweet)\n",
    "\n",
    "    ttext = []\n",
    "    #from bs4 import BeautifulSoup\n",
    "\n",
    "    for t in ta:\n",
    "        ttext.append(t._json['text'])\n",
    "\n",
    "    df = pd.DataFrame()\n",
    "    df['tweet_text'] = ttext\n",
    "    \n",
    "    testing = df.tweet_text[:100]\n",
    "    test_result = []\n",
    "    for t in testing:\n",
    "        test_result.append(tweet_cleaner(t))\n",
    "        \n",
    "    print(\"Cleaning and parsing the tweets...\\n\")\n",
    "    clean_tweet_texts = []\n",
    "    for i in range(df.shape[0]):\n",
    "        if( (i+1)%1000 == 0 ):\n",
    "            print(\"Tweets %d of %d has been processed\" % ( i+1, nums[1] ))\n",
    "        clean_tweet_texts.append(tweet_cleaner(df['tweet_text'][i]))\n",
    "\n",
    "    df['clean_tweet_texts'] = clean_tweet_texts\n",
    "    \n",
    "    df.drop(columns=['tweet_text'], axis=1, inplace=True)\n",
    "    \n",
    "    df['clean_tweet_texts'] = df['clean_tweet_texts'].replace(\"^rt \", \"\", regex=True)\n",
    "\n",
    "    df['clean_tweet_texts'] = df['clean_tweet_texts'].replace(\"^rt\", \"\", regex=True)\n",
    "\n",
    "    df['clean_tweet_texts'] = df['clean_tweet_texts'].replace(\"^metoo\", \"\", regex=True)\n",
    "\n",
    "    df['clean_tweet_texts'] = df['clean_tweet_texts'].replace(\"^ht\", \"\", regex=True)\n",
    "\n",
    "    df['clean_tweet_texts'] = df['clean_tweet_texts'].replace(\"^ ht\", \"\", regex=True)\n",
    "    \n",
    "    \n",
    "    non_bmp_map = dict.fromkeys(range(0x10000, sys.maxunicode + 1), 0xfffd)\n",
    "    polarity, subjectivity, result = [], [], []\n",
    "    for t in df.values:        \n",
    "        analysis = TextBlob(t[0])\n",
    "        pol  = round(analysis.sentiment.polarity,2)\n",
    "        polarity.append(pol) \n",
    "        subjectivity.append(round(analysis.sentiment.subjectivity)) \n",
    "\n",
    "        if pol>0:\n",
    "            result.append('Positive')\n",
    "        elif pol<0 :\n",
    "            result.append('Negetive')\n",
    "        else:\n",
    "            result.append('Neutral')\n",
    "\n",
    "    df['polarity'] = polarity\n",
    "    df['subjectivity'] = subjectivity\n",
    "    df['result'] = result\n",
    "    \n",
    "    df.result.value_counts()\n",
    "\n",
    "    positive, negative, neutral = df.result.value_counts()\n",
    "\n",
    "    df = df[df['clean_tweet_texts']!=\"\"]\n",
    "\n",
    "    df.to_csv(searchTerm + '.csv')\n",
    "\n",
    "    colors = ['green', 'red', 'grey']\n",
    "    sizes = [positive, negative, neutral]\n",
    "    labels = 'Positive', 'Negative', 'Neutral'\n",
    "\n",
    "    print('you have searched for: ' + searchTerm)\n",
    "\n",
    "    plt.pie(\n",
    "       x=sizes,\n",
    "       shadow=True,\n",
    "       colors=colors,\n",
    "       labels=(sizes),\n",
    "       startangle=90\n",
    "    );\n",
    "\n",
    "    df1 = pd.DataFrame({'lab':labels, 'val':sizes})\n",
    "    df1.plot.bar(x='lab', y='val', rot = 0);"
   ]
  },
  {
   "cell_type": "markdown",
   "metadata": {},
   "source": [
    "## ask user for the search term and number of tweets to be looked at"
   ]
  },
  {
   "cell_type": "code",
   "execution_count": 5,
   "metadata": {},
   "outputs": [
    {
     "name": "stdout",
     "output_type": "stream",
     "text": [
      "please enter text to search: #metoo\n",
      "please enter number of search result: 1000\n",
      "Cleaning and parsing the tweets...\n",
      "\n",
      "you have searched for: #metoo\n"
     ]
    },
    {
     "data": {
      "image/png": "[encoded data removed]",
      "text/plain": [
       "<matplotlib.figure.Figure at 0x2a30160>"
      ]
     },
     "metadata": {},
     "output_type": "display_data"
    },
    {
     "data": {
      "image/png": "[encoded data removed]",
      "text/plain": [
       "<matplotlib.figure.Figure at 0xebd9ba8>"
      ]
     },
     "metadata": {},
     "output_type": "display_data"
    }
   ],
   "source": [
    "searchTerm = input('please enter text to search: ') #'#metoo'\n",
    "NoOfTerms = input('please enter number of search result: ')#100000\n",
    "\n",
    "SearchAndCleanTweets()"
   ]
  }
 ],
 "metadata": {
  "kernelspec": {
   "display_name": "Python [conda env:anaconda3]",
   "language": "python",
   "name": "conda-env-anaconda3-py"
  },
  "language_info": {
   "codemirror_mode": {
    "name": "ipython",
    "version": 3
   },
   "file_extension": ".py",
   "mimetype": "text/x-python",
   "name": "python",
   "nbconvert_exporter": "python",
   "pygments_lexer": "ipython3",
   "version": "3.6.4"
  }
 },
 "nbformat": 4,
 "nbformat_minor": 2
}
